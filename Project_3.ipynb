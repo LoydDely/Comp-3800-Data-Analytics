{
  "nbformat": 4,
  "nbformat_minor": 0,
  "metadata": {
    "colab": {
      "provenance": []
    },
    "kernelspec": {
      "name": "python3",
      "display_name": "Python 3"
    },
    "language_info": {
      "name": "python"
    }
  },
  "cells": [
    {
      "cell_type": "markdown",
      "source": [],
      "metadata": {
        "id": "GvlhtWt4Qq-3"
      }
    },
    {
      "cell_type": "markdown",
      "source": [
        "Import Libaries"
      ],
      "metadata": {
        "id": "qjV1h-kY52c9"
      }
    },
    {
      "cell_type": "code",
      "execution_count": null,
      "metadata": {
        "id": "UYMhBZU-fYBr"
      },
      "outputs": [],
      "source": [
        "import numpy as np\n",
        "import pandas as pd\n",
        "from matplotlib import pyplot as plt\n",
        "from sklearn.datasets import load_iris\n",
        "from sklearn.model_selection import train_test_split\n",
        "from sklearn.metrics import accuracy_score\n",
        "from sklearn.tree import DecisionTreeClassifier, plot_tree\n",
        "from sklearn.ensemble import (\n",
        "    GradientBoostingClassifier\n",
        ")\n",
        "import xgboost as xgb\n",
        "import matplotlib.pyplot as plt\n",
        "import collections\n",
        "import warnings"
      ]
    },
    {
      "cell_type": "markdown",
      "source": [
        "Read Dataset"
      ],
      "metadata": {
        "id": "8nN-pw5F56Rc"
      }
    },
    {
      "cell_type": "code",
      "source": [
        "df = pd.read_csv('card_transdata.csv')\n",
        "df = df.rename(columns={'fraud': 'target'})\n",
        "df = df.dropna()\n",
        "df = df.sample(n=1000)"
      ],
      "metadata": {
        "id": "QT8blPKGf5JF"
      },
      "execution_count": null,
      "outputs": []
    },
    {
      "cell_type": "markdown",
      "source": [
        "Run Anova Test"
      ],
      "metadata": {
        "id": "s2oInrMC58Of"
      }
    },
    {
      "cell_type": "code",
      "source": [
        "print('ANOVA Test')\n",
        "from sklearn.feature_selection import SelectKBest, f_classif, chi2\n",
        "x = df.loc[:, ['distance_from_home','distance_from_last_transaction','ratio_to_median_purchase_price']]\n",
        "y = df.loc[:, 'target']\n",
        "\n",
        "fs = SelectKBest(score_func=f_classif, k='all')  # call the method\n",
        "bestFeatures = fs.fit(x, y)    # train the model\n",
        "np.set_printoptions(suppress = True)\n",
        "print(bestFeatures.scores_)    # print out the scores\n",
        "print(bestFeatures.pvalues_)"
      ],
      "metadata": {
        "colab": {
          "base_uri": "https://localhost:8080/"
        },
        "id": "Ot8JJFYVqb6Z",
        "outputId": "b4068aec-53e6-4df1-d3c6-10e8b417e004"
      },
      "execution_count": null,
      "outputs": [
        {
          "output_type": "stream",
          "name": "stdout",
          "text": [
            "ANOVA Test\n",
            "[ 27.15374161  22.7440799  178.10008035]\n",
            "[0.00000023 0.00000213 0.        ]\n"
          ]
        }
      ]
    },
    {
      "cell_type": "markdown",
      "source": [
        "Run CHi-squared Test"
      ],
      "metadata": {
        "id": "CTMEfgDY5_iO"
      }
    },
    {
      "cell_type": "code",
      "source": [
        "print('Chi-Squared')\n",
        "x = df.loc[:, ['used_chip', 'repeat_retailer','used_pin_number','online_order']]\n",
        "y = df.loc[:, 'target']\n",
        "\n",
        "chi = SelectKBest(score_func=chi2, k='all')\n",
        "catFeatures = chi.fit(x, y)\n",
        "print(catFeatures.scores_)\n",
        "print(catFeatures.pvalues_)"
      ],
      "metadata": {
        "colab": {
          "base_uri": "https://localhost:8080/"
        },
        "id": "gixrO5-gqdck",
        "outputId": "239f1c0c-b295-4b6e-cee7-334cb5b50951"
      },
      "execution_count": null,
      "outputs": [
        {
          "output_type": "stream",
          "name": "stdout",
          "text": [
            "Chi-Squared\n",
            "[ 2.91142573  0.27313608 10.43612335 11.18469488]\n",
            "[0.08795409 0.60123578 0.00123574 0.00082475]\n"
          ]
        }
      ]
    },
    {
      "cell_type": "markdown",
      "source": [
        "Train-Test split data set"
      ],
      "metadata": {
        "id": "TXc294IY6DCr"
      }
    },
    {
      "cell_type": "code",
      "source": [
        "X = df[['used_pin_number','online_order','distance_from_home','distance_from_last_transaction','ratio_to_median_purchase_price']]\n",
        "y = df['target']\n",
        "X_train, X_test, y_train, y_test = train_test_split(X, y, test_size=0.3, random_state=42)"
      ],
      "metadata": {
        "id": "ihOOgQvlgBYR"
      },
      "execution_count": null,
      "outputs": []
    },
    {
      "cell_type": "markdown",
      "source": [
        "UnderSampling"
      ],
      "metadata": {
        "id": "QhUytQaxHhVL"
      }
    },
    {
      "cell_type": "code",
      "source": [
        "from imblearn.under_sampling import RandomUnderSampler\n",
        "rus = RandomUnderSampler(random_state=42, sampling_strategy = 'majority')\n",
        "X_resampled, y_resampled = rus.fit_resample(X_train, y_train)"
      ],
      "metadata": {
        "id": "sHAijUnK6fW1"
      },
      "execution_count": null,
      "outputs": []
    },
    {
      "cell_type": "markdown",
      "source": [
        "Gradient Boosting Classifer"
      ],
      "metadata": {
        "id": "oBV1j2zrHkBP"
      }
    },
    {
      "cell_type": "code",
      "source": [
        "gb_clf = GradientBoostingClassifier(n_estimators=100, learning_rate=1.0, max_depth=1, random_state=42)\n",
        "gb_clf.fit(X_resampled.values, y_resampled.values)\n",
        "y_pred_gb = gb_clf.predict(X_test.values)\n",
        "accuracy_gb = accuracy_score(y_test, y_pred_gb)\n",
        "print(f\"Gradient Boosting Accuracy: {accuracy_gb * 100:.2f}%\")"
      ],
      "metadata": {
        "colab": {
          "base_uri": "https://localhost:8080/"
        },
        "id": "XptToUVdiNpq",
        "outputId": "09211c41-e1a6-4f62-e045-236f445e0a7f"
      },
      "execution_count": null,
      "outputs": [
        {
          "output_type": "stream",
          "name": "stdout",
          "text": [
            "Gradient Boosting Accuracy: 94.00%\n"
          ]
        }
      ]
    },
    {
      "cell_type": "markdown",
      "source": [
        "Logistic Regression"
      ],
      "metadata": {
        "id": "xW2IN8VqLzBy"
      }
    },
    {
      "cell_type": "code",
      "source": [
        "#Prediction Model\n",
        "print('prediction model')\n",
        "from sklearn.linear_model import LogisticRegression\n",
        "df = pd.DataFrame(data=df)\n",
        "LogRegression = LogisticRegression( max_iter=2000)\n",
        "LogRegression.fit(X_resampled, y_resampled)\n",
        "\n",
        "from sklearn.metrics import accuracy_score\n",
        "test_pred = LogRegression.predict(X_test)\n",
        "accuracy_score(y_test, test_pred)"
      ],
      "metadata": {
        "colab": {
          "base_uri": "https://localhost:8080/"
        },
        "id": "_2_tZzG87H4q",
        "outputId": "76327780-b8f1-4538-df77-4aa1200c003f"
      },
      "execution_count": null,
      "outputs": [
        {
          "output_type": "stream",
          "name": "stdout",
          "text": [
            "prediction model\n"
          ]
        },
        {
          "output_type": "execute_result",
          "data": {
            "text/plain": [
              "0.8933333333333333"
            ]
          },
          "metadata": {},
          "execution_count": 8
        }
      ]
    },
    {
      "cell_type": "markdown",
      "source": [
        "Pickle File"
      ],
      "metadata": {
        "id": "CKWYEPmPLlgb"
      }
    },
    {
      "cell_type": "code",
      "source": [
        "from google.colab import drive\n",
        "import pickle\n",
        "path = '/content/drive/My Drive/model.pkl'\n",
        "file = open(path, \"wb\")\n",
        "pickle.dump(gb_clf, file)\n",
        "file.close()\n"
      ],
      "metadata": {
        "id": "-RSr993Yyvzg"
      },
      "execution_count": null,
      "outputs": []
    },
    {
      "cell_type": "code",
      "source": [
        "from google.colab import drive\n",
        "drive.mount('/content/drive')"
      ],
      "metadata": {
        "colab": {
          "base_uri": "https://localhost:8080/"
        },
        "id": "LFvHF6fqie6M",
        "outputId": "e9a1cb75-c08a-48a0-f3b7-2bdf8ec86856"
      },
      "execution_count": null,
      "outputs": [
        {
          "output_type": "stream",
          "name": "stdout",
          "text": [
            "Mounted at /content/drive\n"
          ]
        }
      ]
    }
  ]
}